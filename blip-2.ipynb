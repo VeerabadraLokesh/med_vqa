{
 "cells": [
  {
   "cell_type": "code",
   "execution_count": 18,
   "id": "3108cc33",
   "metadata": {
    "scrolled": true
   },
   "outputs": [],
   "source": [
    "# !pip install seaborn absl-py scikit-image tensorboard huggingface-hub datasets"
   ]
  },
  {
   "cell_type": "code",
   "execution_count": 19,
   "id": "740f84eb-345e-48a1-91a0-6600fce26b2d",
   "metadata": {},
   "outputs": [],
   "source": [
    "# !pip install pyarrow"
   ]
  },
  {
   "cell_type": "code",
   "execution_count": 20,
   "id": "1e3d26d4",
   "metadata": {},
   "outputs": [],
   "source": [
    "# !pip install -q git+https://github.com/huggingface/peft.git transformers bitsandbytes datasets"
   ]
  },
  {
   "cell_type": "code",
   "execution_count": 1,
   "id": "899aa9b7",
   "metadata": {},
   "outputs": [],
   "source": [
    "# !pip install accelerate \n",
    "# !pip install bitsandbytes\n",
    "# !pip uninstall huggingface_hub -y\n",
    "# !pip install huggingface_hub\n",
    "# !pip install sacrebleu"
   ]
  },
  {
   "cell_type": "code",
   "execution_count": 1,
   "id": "6c66526d",
   "metadata": {},
   "outputs": [],
   "source": [
    "from datasets import load_dataset\n",
    "\n",
    "dataset = load_dataset(\"flaviagiammarino/vqa-rad\", split=\"train\")\n",
    "test_dataset = load_dataset(\"flaviagiammarino/vqa-rad\", split=\"test\")"
   ]
  },
  {
   "cell_type": "code",
   "execution_count": 2,
   "id": "285ca10e-c6fe-4beb-b813-9f90fa6577f0",
   "metadata": {},
   "outputs": [],
   "source": [
    "# dataset[0]['image']"
   ]
  },
  {
   "cell_type": "code",
   "execution_count": 3,
   "id": "233eb898-020c-4820-9d47-86c63ffa47f3",
   "metadata": {},
   "outputs": [],
   "source": [
    "# dataset[0][\"question\"]"
   ]
  },
  {
   "cell_type": "code",
   "execution_count": 4,
   "id": "130836fc-c15f-42a5-9bdb-0a2cadc405a4",
   "metadata": {},
   "outputs": [],
   "source": [
    "# dataset[0][\"answer\"]"
   ]
  },
  {
   "cell_type": "code",
   "execution_count": 5,
   "id": "b9c8b581-6da2-464e-9bfd-183bc4117c6b",
   "metadata": {},
   "outputs": [],
   "source": [
    "als = []\n",
    "for d in dataset:\n",
    "    als.append(len(d['answer'].split(' ')))\n",
    "    # break"
   ]
  },
  {
   "cell_type": "code",
   "execution_count": 7,
   "id": "f906e851-9130-4e81-8f4f-d05937f26fc9",
   "metadata": {},
   "outputs": [
    {
     "data": {
      "text/plain": [
       "Counter({1: 1321,\n",
       "         2: 229,\n",
       "         3: 104,\n",
       "         4: 54,\n",
       "         5: 28,\n",
       "         6: 15,\n",
       "         7: 15,\n",
       "         8: 12,\n",
       "         9: 6,\n",
       "         14: 4,\n",
       "         13: 3,\n",
       "         17: 1,\n",
       "         10: 1})"
      ]
     },
     "execution_count": 7,
     "metadata": {},
     "output_type": "execute_result"
    }
   ],
   "source": [
    "from collections import Counter\n",
    "\n",
    "Counter(als)"
   ]
  },
  {
   "cell_type": "code",
   "execution_count": 8,
   "id": "5baa9d5d-60a2-4323-addd-e3a5bd00904d",
   "metadata": {},
   "outputs": [
    {
     "data": {
      "image/png": "[encoded data removed]",
      "text/plain": [
       "<Figure size 640x480 with 1 Axes>"
      ]
     },
     "metadata": {},
     "output_type": "display_data"
    }
   ],
   "source": [
    "import matplotlib.pyplot as plt\n",
    "\n",
    "_ = plt.hist(als)"
   ]
  },
  {
   "cell_type": "code",
   "execution_count": 6,
   "id": "101d2e31-0470-4bf7-9545-540aef624e2c",
   "metadata": {
    "scrolled": true
   },
   "outputs": [],
   "source": [
    "# !pip install peft"
   ]
  },
  {
   "cell_type": "code",
   "execution_count": 2,
   "id": "422b28c4",
   "metadata": {},
   "outputs": [
    {
     "data": {
      "text/plain": [
       "2"
      ]
     },
     "execution_count": 2,
     "metadata": {},
     "output_type": "execute_result"
    }
   ],
   "source": [
    "import torch\n",
    "torch.cuda.empty_cache()\n",
    "device = torch.device(\"cuda:1\" if torch.cuda.is_available() else \"cpu\")\n",
    "torch.cuda.device_count()"
   ]
  },
  {
   "cell_type": "code",
   "execution_count": 3,
   "id": "8afe5fe9",
   "metadata": {},
   "outputs": [],
   "source": [
    "import torch\n",
    "from torch.utils.data import Dataset, DataLoader\n",
    "from torchvision import transforms\n",
    "\n",
    "class VQADataset(torch.utils.data.Dataset):\n",
    "    \"\"\"VQA (v2) dataset.\"\"\"\n",
    "\n",
    "    def __init__(self, dataset, processor, image_size=224, convert_mode='RGB', qtype='CLOSED'):\n",
    "        self.dataset = dataset\n",
    "        self.processor = processor\n",
    "        # self.transform = transforms.Compose([\n",
    "        #     transforms.Resize(image_size),  # Resize to a fixed size\n",
    "        #     transforms.ToTensor(),  # Convert to tensor\n",
    "        #     transforms.ConvertImageDtype(torch.float),  # Ensure float dtype for images\n",
    "        #     # transforms.Normalize(mean=[0.485, 0.456, 0.406], std=[0.229, 0.224, 0.225])  # Normalize (example for RGB)\n",
    "        # ])\n",
    "        # if convert_mode.upper() == 'RGB':\n",
    "        #     self.convert = transforms.Lambda(lambda img: img.convert('RGB'))\n",
    "        # elif convert_mode.upper() == 'GRAYSCALE':\n",
    "        #     self.convert = transforms.Lambda(lambda img: img.convert('L'))\n",
    "        # else:\n",
    "        #     raise ValueError(\"convert_mode must be 'RGB' or 'GRAYSCALE'\")\n",
    "        # self.indices = []\n",
    "        # for i, d in enumerate(dataset):\n",
    "        #     if 'CLOSED' == qtype and d['answer'] in ['yes', 'no']:\n",
    "        #         self.indices.append(i)\n",
    "        #     elif 'OPEN' == qtype:\n",
    "        #         self.indices.append(i)\n",
    "\n",
    "    def __len__(self):\n",
    "        # return len(self.indices)\n",
    "        return len(self.dataset)\n",
    "\n",
    "    def __getitem__(self, idxi):\n",
    "        # idx = self.indices[idxi]\n",
    "        idx = idxi\n",
    "        # get image + text\n",
    "        question = self.dataset[idx]['question']\n",
    "        answer = self.dataset[idx]['answer']\n",
    "        image = self.dataset[idx]['image']\n",
    "        # image = self.transform(image)\n",
    "        template = \"Question: {} Answer:\"\n",
    "        prompt = template.format(question)\n",
    "        # print(\"text\", text)\n",
    "        encoding = self.processor(image, text=prompt, padding=\"max_length\", truncation=True, return_tensors=\"pt\")#.to(device=\"cuda:0\")\n",
    "\n",
    "        # encoding = self.processor(\n",
    "        # image, prompt=text, padding=\"max_length\", truncation=True, return_tensors=\"pt\"\n",
    "        # ).to(device=\"cuda\", dtype=torch.bfloat16)\n",
    "\n",
    "        # print(\"encoding\",encoding.keys())\n",
    "\n",
    "        labels = self.processor.tokenizer.encode(\n",
    "            answer, max_length= 8, pad_to_max_length=True, return_tensors='pt'\n",
    "        )\n",
    "        encoding[\"labels\"] = labels\n",
    "\n",
    "        # remove batch dimension\n",
    "        for k,v in encoding.items():  encoding[k] = v.squeeze()\n",
    "        encoding[\"answer\"] = answer\n",
    "        return encoding\n",
    "\n",
    "\n",
    "from torch.nn.utils.rnn import pad_sequence\n",
    "import torch\n",
    "\n",
    "def collate_fn(batch):\n",
    "    processed_batch = {}\n",
    "    \n",
    "    input_ids_list = []\n",
    "    attention_mask_list = []\n",
    "    pixel_values_list = []\n",
    "    labels_list = []\n",
    "\n",
    "    for item in batch:\n",
    "        input_ids_list.append(item['input_ids'])\n",
    "        attention_mask_list.append(item['attention_mask'])\n",
    "        pixel_values_list.append(item['pixel_values'])  # Assuming pixel_values need no padding\n",
    "        labels_list.append(item['labels'])\n",
    "\n",
    "    processed_batch['input_ids'] = pad_sequence(input_ids_list, batch_first=True, padding_value=0)  # Check the appropriate padding_value for your tokenizer\n",
    "    processed_batch['attention_mask'] = pad_sequence(attention_mask_list, batch_first=True, padding_value=0)\n",
    "    processed_batch['labels'] = pad_sequence(labels_list, batch_first=True, padding_value=0)\n",
    "\n",
    "    processed_batch['pixel_values'] = torch.stack(pixel_values_list)#.to(device)\n",
    "\n",
    "    return processed_batch"
   ]
  },
  {
   "cell_type": "code",
   "execution_count": 7,
   "id": "6d9a4487",
   "metadata": {},
   "outputs": [
    {
     "data": {
      "application/vnd.jupyter.widget-view+json": {
       "model_id": "81f3246122874e3a9d8faabbb20449c3",
       "version_major": 2,
       "version_minor": 0
      },
      "text/plain": [
       "Loading checkpoint shards:   0%|          | 0/2 [00:00<?, ?it/s]"
      ]
     },
     "metadata": {},
     "output_type": "display_data"
    }
   ],
   "source": [
    "import os\n",
    "from transformers import AutoProcessor, Blip2ForConditionalGeneration\n",
    "from transformers import AutoModelForSeq2SeqLM, AutoTokenizer\n",
    "from accelerate import accelerator\n",
    "\n",
    "os.environ['HF_HOME'] = '/data/vep52/nlp/huggingface/hub'\n",
    "\n",
    "processor = AutoProcessor.from_pretrained(\"Salesforce/blip2-opt-2.7b\")\n",
    "# processor.tokenizer.padding_side='left'\n",
    "model = Blip2ForConditionalGeneration.from_pretrained(\n",
    "    \"Salesforce/blip2-opt-2.7b\",\n",
    "    # device_map=\"auto\",\n",
    "    cache_dir = os.environ['HF_HOME']\n",
    "    )"
   ]
  },
  {
   "cell_type": "code",
   "execution_count": 8,
   "id": "f8dbdcc5-8b8a-4915-8873-146c0c685393",
   "metadata": {},
   "outputs": [
    {
     "data": {
      "text/plain": [
       "device(type='cuda', index=1)"
      ]
     },
     "execution_count": 8,
     "metadata": {},
     "output_type": "execute_result"
    }
   ],
   "source": [
    "model.to(device)\n",
    "model.device"
   ]
  },
  {
   "cell_type": "code",
   "execution_count": 7,
   "id": "eec662ff",
   "metadata": {},
   "outputs": [],
   "source": [
    "train_dataset = VQADataset(dataset, processor)\n",
    "train_dataloader = DataLoader(train_dataset, shuffle=True, batch_size=48, collate_fn=collate_fn)\n",
    "test_dataset2 = VQADataset(test_dataset, processor)\n",
    "valid_dataloader = DataLoader(test_dataset2, shuffle=False, batch_size=48, collate_fn=collate_fn)"
   ]
  },
  {
   "cell_type": "code",
   "execution_count": 8,
   "id": "8583a818-e6b5-4822-a17f-497ea8d54ad1",
   "metadata": {},
   "outputs": [
    {
     "data": {
      "text/plain": [
       "1793"
      ]
     },
     "execution_count": 8,
     "metadata": {},
     "output_type": "execute_result"
    }
   ],
   "source": [
    "len(train_dataset)"
   ]
  },
  {
   "cell_type": "code",
   "execution_count": 11,
   "id": "34e35b56",
   "metadata": {},
   "outputs": [
    {
     "name": "stdout",
     "output_type": "stream",
     "text": [
      "trainable params: 5,242,880 || all params: 3,749,922,816 || trainable%: 0.13981301102065136\n"
     ]
    },
    {
     "data": {
      "text/plain": [
       "<torch._C.Generator at 0x7f33dc2bfa90>"
      ]
     },
     "execution_count": 11,
     "metadata": {},
     "output_type": "execute_result"
    }
   ],
   "source": [
    "from peft import LoraConfig, get_peft_model\n",
    "\n",
    "# Let's define the LoraConfig\n",
    "config = LoraConfig(\n",
    "    r=16,\n",
    "    lora_alpha=32,\n",
    "    lora_dropout=0.05,\n",
    "    bias=\"none\",\n",
    "    target_modules=[\"q_proj\", \"k_proj\"]\n",
    "    # target_modules=[\"q_proj\", \"k_proj\", \"v_proj\", \"o_proj\", \"gate_proj\", \"up_proj\", \"down_proj\", \"lm_head\",],\n",
    ")\n",
    "\n",
    "model = get_peft_model(model, config)\n",
    "model.print_trainable_parameters()\n",
    "\n",
    "\n",
    "model.to(device)\n",
    "\n",
    "# torch.cuda.empty_cache()\n",
    "torch.manual_seed(42)"
   ]
  },
  {
   "cell_type": "code",
   "execution_count": 12,
   "id": "e391dd56",
   "metadata": {
    "scrolled": true
   },
   "outputs": [
    {
     "name": "stderr",
     "output_type": "stream",
     "text": [
      "Training batch: ...:   0%|                                                                                                                            | 0/38 [00:00<?, ?it/s]Asking to pad to max_length but no maximum length is provided and the model has no predefined maximum length. Default to no padding.\n",
      "Asking to truncate to max_length but no maximum length is provided and the model has no predefined maximum length. Default to no truncation.\n",
      "Truncation was not explicitly activated but `max_length` is provided a specific value, please use `truncation=True` to explicitly truncate examples to max length. Defaulting to 'longest_first' truncation strategy. If you encode pairs of sequences (GLUE-style) with the tokenizer you can select this strategy more precisely by providing a specific strategy to `truncation`.\n",
      "/data/vep52/miniforge3/envs/med_vqa/lib/python3.10/site-packages/transformers/tokenization_utils_base.py:2688: FutureWarning: The `pad_to_max_length` argument is deprecated and will be removed in a future version, use `padding=True` or `padding='longest'` to pad to the longest sequence in the batch, or use `padding='max_length'` to pad to a max length. In this case, you can give a specific length with `max_length` (e.g. `max_length=45`) or leave max_length to None to pad to the maximal input size of the model (e.g. 512 for Bert).\n",
      "  warnings.warn(\n",
      "Training batch: ...: 100%|███████████████████████████████████████████████████████████████████████████████████████████████████████████████████| 38/38 [03:02<00:00,  4.80s/it]\n",
      "Validating batch: ...: 100%|█████████████████████████████████████████████████████████████████████████████████████████████████████████████████| 10/10 [00:39<00:00,  3.98s/it]\n"
     ]
    },
    {
     "name": "stdout",
     "output_type": "stream",
     "text": [
      "Epoch: 1 - Training loss: 12.6740174544485 - Eval Loss: 10.4786771774292 - LR: 4e-05\n",
      "Saved model to Model/blip-saved-model\n"
     ]
    },
    {
     "name": "stderr",
     "output_type": "stream",
     "text": [
      "Training batch: ...: 100%|███████████████████████████████████████████████████████████████████████████████████████████████████████████████████| 38/38 [03:00<00:00,  4.75s/it]\n",
      "Validating batch: ...: 100%|█████████████████████████████████████████████████████████████████████████████████████████████████████████████████| 10/10 [00:38<00:00,  3.87s/it]\n"
     ]
    },
    {
     "name": "stdout",
     "output_type": "stream",
     "text": [
      "Epoch: 2 - Training loss: 8.007437718541999 - Eval Loss: 6.026336812973023 - LR: 3.6e-05\n",
      "Saved model to Model/blip-saved-model\n"
     ]
    },
    {
     "name": "stderr",
     "output_type": "stream",
     "text": [
      "Training batch: ...: 100%|███████████████████████████████████████████████████████████████████████████████████████████████████████████████████| 38/38 [03:00<00:00,  4.76s/it]\n",
      "Validating batch: ...: 100%|█████████████████████████████████████████████████████████████████████████████████████████████████████████████████| 10/10 [00:38<00:00,  3.82s/it]\n"
     ]
    },
    {
     "name": "stdout",
     "output_type": "stream",
     "text": [
      "Epoch: 3 - Training loss: 5.869259796644512 - Eval Loss: 5.178172874450683 - LR: 3.24e-05\n",
      "Saved model to Model/blip-saved-model\n"
     ]
    },
    {
     "name": "stderr",
     "output_type": "stream",
     "text": [
      "Training batch: ...: 100%|███████████████████████████████████████████████████████████████████████████████████████████████████████████████████| 38/38 [03:03<00:00,  4.83s/it]\n",
      "Validating batch: ...: 100%|█████████████████████████████████████████████████████████████████████████████████████████████████████████████████| 10/10 [00:39<00:00,  3.92s/it]\n"
     ]
    },
    {
     "name": "stdout",
     "output_type": "stream",
     "text": [
      "Epoch: 4 - Training loss: 5.183481931686401 - Eval Loss: 4.42564582824707 - LR: 2.9160000000000002e-05\n",
      "Saved model to Model/blip-saved-model\n"
     ]
    },
    {
     "name": "stderr",
     "output_type": "stream",
     "text": [
      "Training batch: ...: 100%|███████████████████████████████████████████████████████████████████████████████████████████████████████████████████| 38/38 [02:57<00:00,  4.66s/it]\n",
      "Validating batch: ...: 100%|█████████████████████████████████████████████████████████████████████████████████████████████████████████████████| 10/10 [00:38<00:00,  3.89s/it]\n"
     ]
    },
    {
     "name": "stdout",
     "output_type": "stream",
     "text": [
      "Epoch: 5 - Training loss: 4.549596585725483 - Eval Loss: 3.9131113052368165 - LR: 2.6244e-05\n",
      "Saved model to Model/blip-saved-model\n"
     ]
    },
    {
     "name": "stderr",
     "output_type": "stream",
     "text": [
      "Training batch: ...: 100%|███████████████████████████████████████████████████████████████████████████████████████████████████████████████████| 38/38 [03:05<00:00,  4.89s/it]\n",
      "Validating batch: ...: 100%|█████████████████████████████████████████████████████████████████████████████████████████████████████████████████| 10/10 [00:37<00:00,  3.74s/it]\n"
     ]
    },
    {
     "name": "stdout",
     "output_type": "stream",
     "text": [
      "Epoch: 6 - Training loss: 4.112212337945637 - Eval Loss: 3.5659050703048707 - LR: 2.3619600000000003e-05\n",
      "Saved model to Model/blip-saved-model\n"
     ]
    },
    {
     "name": "stderr",
     "output_type": "stream",
     "text": [
      "Training batch: ...: 100%|███████████████████████████████████████████████████████████████████████████████████████████████████████████████████| 38/38 [03:05<00:00,  4.87s/it]\n",
      "Validating batch: ...: 100%|█████████████████████████████████████████████████████████████████████████████████████████████████████████████████| 10/10 [00:38<00:00,  3.81s/it]\n"
     ]
    },
    {
     "name": "stdout",
     "output_type": "stream",
     "text": [
      "Epoch: 7 - Training loss: 3.8308552503585815 - Eval Loss: 3.3193510293960573 - LR: 2.1257640000000004e-05\n",
      "Saved model to Model/blip-saved-model\n"
     ]
    },
    {
     "name": "stderr",
     "output_type": "stream",
     "text": [
      "Training batch: ...: 100%|███████████████████████████████████████████████████████████████████████████████████████████████████████████████████| 38/38 [03:06<00:00,  4.90s/it]\n",
      "Validating batch: ...: 100%|█████████████████████████████████████████████████████████████████████████████████████████████████████████████████| 10/10 [00:37<00:00,  3.78s/it]\n"
     ]
    },
    {
     "name": "stdout",
     "output_type": "stream",
     "text": [
      "Epoch: 8 - Training loss: 3.6567132472991943 - Eval Loss: 3.209427332878113 - LR: 1.9131876000000003e-05\n",
      "Saved model to Model/blip-saved-model\n"
     ]
    },
    {
     "name": "stderr",
     "output_type": "stream",
     "text": [
      "Training batch: ...: 100%|███████████████████████████████████████████████████████████████████████████████████████████████████████████████████| 38/38 [03:04<00:00,  4.86s/it]\n",
      "Validating batch: ...: 100%|█████████████████████████████████████████████████████████████████████████████████████████████████████████████████| 10/10 [00:39<00:00,  3.92s/it]\n"
     ]
    },
    {
     "name": "stdout",
     "output_type": "stream",
     "text": [
      "Epoch: 9 - Training loss: 3.5204242593363713 - Eval Loss: 3.0753605127334596 - LR: 1.7218688400000002e-05\n",
      "Saved model to Model/blip-saved-model\n"
     ]
    },
    {
     "name": "stderr",
     "output_type": "stream",
     "text": [
      "Training batch: ...: 100%|███████████████████████████████████████████████████████████████████████████████████████████████████████████████████| 38/38 [03:05<00:00,  4.89s/it]\n",
      "Validating batch: ...: 100%|█████████████████████████████████████████████████████████████████████████████████████████████████████████████████| 10/10 [00:37<00:00,  3.72s/it]\n"
     ]
    },
    {
     "name": "stdout",
     "output_type": "stream",
     "text": [
      "Epoch: 10 - Training loss: 3.3859461294977287 - Eval Loss: 2.997171902656555 - LR: 1.5496819560000003e-05\n",
      "Saved model to Model/blip-saved-model\n"
     ]
    },
    {
     "name": "stderr",
     "output_type": "stream",
     "text": [
      "Training batch: ...: 100%|███████████████████████████████████████████████████████████████████████████████████████████████████████████████████| 38/38 [03:01<00:00,  4.79s/it]\n",
      "Validating batch: ...: 100%|█████████████████████████████████████████████████████████████████████████████████████████████████████████████████| 10/10 [00:35<00:00,  3.55s/it]\n"
     ]
    },
    {
     "name": "stdout",
     "output_type": "stream",
     "text": [
      "Epoch: 11 - Training loss: 3.312518308037206 - Eval Loss: 2.9366922616958617 - LR: 1.3947137604000003e-05\n",
      "Saved model to Model/blip-saved-model\n"
     ]
    },
    {
     "name": "stderr",
     "output_type": "stream",
     "text": [
      "Training batch: ...: 100%|███████████████████████████████████████████████████████████████████████████████████████████████████████████████████| 38/38 [02:51<00:00,  4.51s/it]\n",
      "Validating batch: ...: 100%|█████████████████████████████████████████████████████████████████████████████████████████████████████████████████| 10/10 [00:34<00:00,  3.44s/it]\n"
     ]
    },
    {
     "name": "stdout",
     "output_type": "stream",
     "text": [
      "Epoch: 12 - Training loss: 3.2630503805060136 - Eval Loss: 2.870720314979553 - LR: 1.2552423843600002e-05\n",
      "Saved model to Model/blip-saved-model\n"
     ]
    },
    {
     "name": "stderr",
     "output_type": "stream",
     "text": [
      "Training batch: ...: 100%|███████████████████████████████████████████████████████████████████████████████████████████████████████████████████| 38/38 [02:52<00:00,  4.54s/it]\n",
      "Validating batch: ...: 100%|█████████████████████████████████████████████████████████████████████████████████████████████████████████████████| 10/10 [00:33<00:00,  3.38s/it]\n"
     ]
    },
    {
     "name": "stdout",
     "output_type": "stream",
     "text": [
      "Epoch: 13 - Training loss: 3.227937597977488 - Eval Loss: 2.8480037450790405 - LR: 1.1297181459240002e-05\n",
      "Saved model to Model/blip-saved-model\n"
     ]
    },
    {
     "name": "stderr",
     "output_type": "stream",
     "text": [
      "Training batch: ...: 100%|███████████████████████████████████████████████████████████████████████████████████████████████████████████████████| 38/38 [02:51<00:00,  4.52s/it]\n",
      "Validating batch: ...: 100%|█████████████████████████████████████████████████████████████████████████████████████████████████████████████████| 10/10 [00:34<00:00,  3.43s/it]\n"
     ]
    },
    {
     "name": "stdout",
     "output_type": "stream",
     "text": [
      "Epoch: 14 - Training loss: 3.134063206220928 - Eval Loss: 2.811699891090393 - LR: 1.0167463313316002e-05\n",
      "Saved model to Model/blip-saved-model\n"
     ]
    },
    {
     "name": "stderr",
     "output_type": "stream",
     "text": [
      "Training batch: ...: 100%|███████████████████████████████████████████████████████████████████████████████████████████████████████████████████| 38/38 [02:51<00:00,  4.50s/it]\n",
      "Validating batch: ...: 100%|█████████████████████████████████████████████████████████████████████████████████████████████████████████████████| 10/10 [00:34<00:00,  3.50s/it]\n"
     ]
    },
    {
     "name": "stdout",
     "output_type": "stream",
     "text": [
      "Epoch: 15 - Training loss: 3.099856646437394 - Eval Loss: 2.7822338581085204 - LR: 9.150716981984402e-06\n",
      "Saved model to Model/blip-saved-model\n"
     ]
    },
    {
     "name": "stderr",
     "output_type": "stream",
     "text": [
      "Training batch: ...: 100%|███████████████████████████████████████████████████████████████████████████████████████████████████████████████████| 38/38 [02:54<00:00,  4.59s/it]\n",
      "Validating batch: ...: 100%|█████████████████████████████████████████████████████████████████████████████████████████████████████████████████| 10/10 [00:35<00:00,  3.60s/it]\n"
     ]
    },
    {
     "name": "stdout",
     "output_type": "stream",
     "text": [
      "Epoch: 16 - Training loss: 3.07992736916793 - Eval Loss: 2.7561601877212523 - LR: 8.235645283785962e-06\n",
      "Saved model to Model/blip-saved-model\n"
     ]
    },
    {
     "name": "stderr",
     "output_type": "stream",
     "text": [
      "Training batch: ...: 100%|███████████████████████████████████████████████████████████████████████████████████████████████████████████████████| 38/38 [02:56<00:00,  4.64s/it]\n",
      "Validating batch: ...: 100%|█████████████████████████████████████████████████████████████████████████████████████████████████████████████████| 10/10 [00:39<00:00,  3.96s/it]\n"
     ]
    },
    {
     "name": "stdout",
     "output_type": "stream",
     "text": [
      "Epoch: 17 - Training loss: 3.0588000761835197 - Eval Loss: 2.730756092071533 - LR: 7.412080755407366e-06\n",
      "Saved model to Model/blip-saved-model\n"
     ]
    },
    {
     "name": "stderr",
     "output_type": "stream",
     "text": [
      "Training batch: ...: 100%|███████████████████████████████████████████████████████████████████████████████████████████████████████████████████| 38/38 [02:59<00:00,  4.72s/it]\n",
      "Validating batch: ...: 100%|█████████████████████████████████████████████████████████████████████████████████████████████████████████████████| 10/10 [00:38<00:00,  3.86s/it]\n"
     ]
    },
    {
     "name": "stdout",
     "output_type": "stream",
     "text": [
      "Epoch: 18 - Training loss: 3.0125469032086825 - Eval Loss: 2.714875078201294 - LR: 6.6708726798666295e-06\n",
      "Saved model to Model/blip-saved-model\n"
     ]
    },
    {
     "name": "stderr",
     "output_type": "stream",
     "text": [
      "Training batch: ...: 100%|███████████████████████████████████████████████████████████████████████████████████████████████████████████████████| 38/38 [03:02<00:00,  4.80s/it]\n",
      "Validating batch: ...: 100%|█████████████████████████████████████████████████████████████████████████████████████████████████████████████████| 10/10 [00:37<00:00,  3.75s/it]\n"
     ]
    },
    {
     "name": "stdout",
     "output_type": "stream",
     "text": [
      "Epoch: 19 - Training loss: 3.008017847412511 - Eval Loss: 2.7022029876708986 - LR: 6.003785411879967e-06\n",
      "Saved model to Model/blip-saved-model\n"
     ]
    },
    {
     "name": "stderr",
     "output_type": "stream",
     "text": [
      "Training batch: ...: 100%|███████████████████████████████████████████████████████████████████████████████████████████████████████████████████| 38/38 [03:05<00:00,  4.87s/it]\n",
      "Validating batch: ...: 100%|█████████████████████████████████████████████████████████████████████████████████████████████████████████████████| 10/10 [00:40<00:00,  4.03s/it]\n"
     ]
    },
    {
     "name": "stdout",
     "output_type": "stream",
     "text": [
      "Epoch: 20 - Training loss: 2.9740535177682577 - Eval Loss: 2.6836514234542848 - LR: 5.40340687069197e-06\n",
      "Saved model to Model/blip-saved-model\n"
     ]
    },
    {
     "name": "stderr",
     "output_type": "stream",
     "text": [
      "Training batch: ...: 100%|███████████████████████████████████████████████████████████████████████████████████████████████████████████████████| 38/38 [03:04<00:00,  4.85s/it]\n",
      "Validating batch: ...: 100%|█████████████████████████████████████████████████████████████████████████████████████████████████████████████████| 10/10 [00:37<00:00,  3.74s/it]\n"
     ]
    },
    {
     "name": "stdout",
     "output_type": "stream",
     "text": [
      "Epoch: 21 - Training loss: 2.983707823251423 - Eval Loss: 2.6847532629966735 - LR: 4.863066183622773e-06\n"
     ]
    },
    {
     "name": "stderr",
     "output_type": "stream",
     "text": [
      "Training batch: ...: 100%|███████████████████████████████████████████████████████████████████████████████████████████████████████████████████| 38/38 [03:04<00:00,  4.86s/it]\n",
      "Validating batch: ...: 100%|█████████████████████████████████████████████████████████████████████████████████████████████████████████████████| 10/10 [00:38<00:00,  3.86s/it]\n"
     ]
    },
    {
     "name": "stdout",
     "output_type": "stream",
     "text": [
      "Epoch: 22 - Training loss: 2.9856331787611308 - Eval Loss: 2.669867658615112 - LR: 4.3767595652604964e-06\n",
      "Saved model to Model/blip-saved-model\n"
     ]
    },
    {
     "name": "stderr",
     "output_type": "stream",
     "text": [
      "Training batch: ...: 100%|███████████████████████████████████████████████████████████████████████████████████████████████████████████████████| 38/38 [03:04<00:00,  4.86s/it]\n",
      "Validating batch: ...: 100%|█████████████████████████████████████████████████████████████████████████████████████████████████████████████████| 10/10 [00:37<00:00,  3.73s/it]\n"
     ]
    },
    {
     "name": "stdout",
     "output_type": "stream",
     "text": [
      "Epoch: 23 - Training loss: 2.9564473252547416 - Eval Loss: 2.6566402554512023 - LR: 3.939083608734447e-06\n",
      "Saved model to Model/blip-saved-model\n"
     ]
    },
    {
     "name": "stderr",
     "output_type": "stream",
     "text": [
      "Training batch: ...: 100%|███████████████████████████████████████████████████████████████████████████████████████████████████████████████████| 38/38 [03:01<00:00,  4.79s/it]\n",
      "Validating batch: ...: 100%|█████████████████████████████████████████████████████████████████████████████████████████████████████████████████| 10/10 [00:36<00:00,  3.62s/it]\n"
     ]
    },
    {
     "name": "stdout",
     "output_type": "stream",
     "text": [
      "Epoch: 24 - Training loss: 2.9520804756566097 - Eval Loss: 2.6461278319358827 - LR: 3.5451752478610023e-06\n",
      "Saved model to Model/blip-saved-model\n"
     ]
    },
    {
     "name": "stderr",
     "output_type": "stream",
     "text": [
      "Training batch: ...: 100%|███████████████████████████████████████████████████████████████████████████████████████████████████████████████████| 38/38 [02:52<00:00,  4.55s/it]\n",
      "Validating batch: ...: 100%|█████████████████████████████████████████████████████████████████████████████████████████████████████████████████| 10/10 [00:35<00:00,  3.57s/it]\n"
     ]
    },
    {
     "name": "stdout",
     "output_type": "stream",
     "text": [
      "Epoch: 25 - Training loss: 2.9540175952409444 - Eval Loss: 2.6539746284484864 - LR: 3.190657723074902e-06\n"
     ]
    },
    {
     "name": "stderr",
     "output_type": "stream",
     "text": [
      "Training batch: ...: 100%|███████████████████████████████████████████████████████████████████████████████████████████████████████████████████| 38/38 [02:53<00:00,  4.57s/it]\n",
      "Validating batch: ...: 100%|█████████████████████████████████████████████████████████████████████████████████████████████████████████████████| 10/10 [00:38<00:00,  3.85s/it]\n"
     ]
    },
    {
     "name": "stdout",
     "output_type": "stream",
     "text": [
      "Epoch: 26 - Training loss: 2.9752013244126974 - Eval Loss: 2.6389620661735536 - LR: 2.871591950767412e-06\n",
      "Saved model to Model/blip-saved-model\n"
     ]
    },
    {
     "name": "stderr",
     "output_type": "stream",
     "text": [
      "Training batch: ...: 100%|███████████████████████████████████████████████████████████████████████████████████████████████████████████████████| 38/38 [02:57<00:00,  4.67s/it]\n",
      "Validating batch: ...: 100%|█████████████████████████████████████████████████████████████████████████████████████████████████████████████████| 10/10 [00:36<00:00,  3.60s/it]\n"
     ]
    },
    {
     "name": "stdout",
     "output_type": "stream",
     "text": [
      "Epoch: 27 - Training loss: 2.930314584782249 - Eval Loss: 2.637747609615326 - LR: 2.5844327556906708e-06\n",
      "Saved model to Model/blip-saved-model\n"
     ]
    },
    {
     "name": "stderr",
     "output_type": "stream",
     "text": [
      "Training batch: ...: 100%|███████████████████████████████████████████████████████████████████████████████████████████████████████████████████| 38/38 [02:49<00:00,  4.47s/it]\n",
      "Validating batch: ...: 100%|█████████████████████████████████████████████████████████████████████████████████████████████████████████████████| 10/10 [00:35<00:00,  3.56s/it]\n"
     ]
    },
    {
     "name": "stdout",
     "output_type": "stream",
     "text": [
      "Epoch: 28 - Training loss: 2.9385471218510677 - Eval Loss: 2.6316360354423525 - LR: 2.3259894801216037e-06\n",
      "Saved model to Model/blip-saved-model\n"
     ]
    },
    {
     "name": "stderr",
     "output_type": "stream",
     "text": [
      "Training batch: ...: 100%|███████████████████████████████████████████████████████████████████████████████████████████████████████████████████| 38/38 [02:49<00:00,  4.47s/it]\n",
      "Validating batch: ...: 100%|█████████████████████████████████████████████████████████████████████████████████████████████████████████████████| 10/10 [00:35<00:00,  3.51s/it]\n"
     ]
    },
    {
     "name": "stdout",
     "output_type": "stream",
     "text": [
      "Epoch: 29 - Training loss: 2.922991482835067 - Eval Loss: 2.625326669216156 - LR: 2.0933905321094435e-06\n",
      "Saved model to Model/blip-saved-model\n"
     ]
    },
    {
     "name": "stderr",
     "output_type": "stream",
     "text": [
      "Training batch: ...: 100%|███████████████████████████████████████████████████████████████████████████████████████████████████████████████████| 38/38 [02:51<00:00,  4.51s/it]\n",
      "Validating batch: ...: 100%|█████████████████████████████████████████████████████████████████████████████████████████████████████████████████| 10/10 [00:35<00:00,  3.55s/it]"
     ]
    },
    {
     "name": "stdout",
     "output_type": "stream",
     "text": [
      "Epoch: 30 - Training loss: 2.9147607276314185 - Eval Loss: 2.6214463829994203 - LR: 1.8840514788984991e-06\n",
      "Saved model to Model/blip-saved-model\n",
      "The finetuning process is complete!\n"
     ]
    },
    {
     "name": "stderr",
     "output_type": "stream",
     "text": [
      "\n"
     ]
    }
   ],
   "source": [
    "from tqdm import tqdm\n",
    "import torch\n",
    "import pickle\n",
    "\n",
    "def compute_accuracy(predictions, labels):\n",
    "    # Assuming predictions are logits for classification\n",
    "    preds = torch.argmax(predictions, dim=1)  # Convert logits to class predictions\n",
    "    correct_count = (preds == labels).sum().item()  # Count correct predictions\n",
    "    total_count = labels.size(0)  # Total number of labels\n",
    "    accuracy = correct_count / total_count  # Calculate accuracy\n",
    "    return accuracy\n",
    "\n",
    "\n",
    "optimizer = torch.optim.AdamW(model.parameters(), lr=4e-5)\n",
    "scheduler = torch.optim.lr_scheduler.ExponentialLR(optimizer, gamma=0.9, last_epoch=-1, verbose=False)\n",
    "\n",
    "num_epochs = 30\n",
    "patience = 5\n",
    "min_eval_loss = float(\"inf\")\n",
    "early_stopping_hook = 0\n",
    "tracking_information = []\n",
    "scaler = torch.cuda.amp.GradScaler()\n",
    "\n",
    "for epoch in range(num_epochs):\n",
    "    epoch_loss = 0\n",
    "    model.train()\n",
    "    for idx, batch in zip(tqdm(range(len(train_dataloader)), desc='Training batch: ...'), train_dataloader):\n",
    "        input_ids = batch.pop('input_ids').to(device)\n",
    "        pixel_values = batch.pop('pixel_values').to(device)\n",
    "        attention_masked = batch.pop('attention_mask').to(device)\n",
    "        labels = batch.pop('labels').to(device)\n",
    "\n",
    "        with torch.amp.autocast(device_type='cuda', dtype=torch.float32):\n",
    "            # print(\"input_ids\",input_ids.dtype)\n",
    "            # print(\"pixel_values\", pixel_values.dtype)\n",
    "            # print(\"labels\", labels.dtype)\n",
    "            outputs = model(input_ids=input_ids.to(device),\n",
    "                        pixel_values=pixel_values.to(device, dtype=torch.float32),\n",
    "                        attention_mask=attention_masked,\n",
    "                        labels=labels.to(device))\n",
    "\n",
    "        loss = outputs.loss\n",
    "        epoch_loss += loss.item()\n",
    "        optimizer.zero_grad()\n",
    "\n",
    "        scaler.scale(loss).backward()\n",
    "        scaler.step(optimizer)\n",
    "        scaler.update()\n",
    "\n",
    "\n",
    "\n",
    "    model.eval()\n",
    "    eval_loss = 0\n",
    "    total_accuracy = 0\n",
    "\n",
    "    for idx, batch in zip(tqdm(range(len(valid_dataloader)), desc='Validating batch: ...'), valid_dataloader):\n",
    "        input_ids = batch.pop('input_ids').to(device)\n",
    "        pixel_values = batch.pop('pixel_values').to(device)\n",
    "        attention_masked = batch.pop('attention_mask').to(device)\n",
    "        labels = batch.pop('labels').to(device)\n",
    "\n",
    "        with torch.amp.autocast(device_type='cuda', dtype=torch.float32):\n",
    "            outputs = model(input_ids=input_ids,\n",
    "                        pixel_values=pixel_values,\n",
    "                        attention_mask=attention_masked,\n",
    "                        labels=labels)\n",
    "\n",
    "        loss = outputs.loss\n",
    "        eval_loss += loss.item()\n",
    "\n",
    "\n",
    "        # Inside your validation loop, after obtaining `outputs`:\n",
    "        # accuracy = compute_accuracy(outputs.logits, labels)  # Calculate accuracy for the current batch\n",
    "        # total_accuracy += accuracy  # Accumulate accuracy\n",
    "\n",
    "    # After the loop, calculate average accuracy over all batches\n",
    "    # validation_accuracy = total_accuracy / len(valid_dataloader)\n",
    "    # print(f\"Validation Accuracy: {validation_accuracy}\")\n",
    "\n",
    "\n",
    "    tracking_information.append((epoch_loss/len(train_dataloader), eval_loss/len(valid_dataloader), optimizer.param_groups[0][\"lr\"]))\n",
    "    print(\"Epoch: {} - Training loss: {} - Eval Loss: {} - LR: {}\".format(epoch+1, epoch_loss/len(train_dataloader), eval_loss/len(valid_dataloader), optimizer.param_groups[0][\"lr\"]))\n",
    "    scheduler.step()\n",
    "    if eval_loss < min_eval_loss:\n",
    "        model.save_pretrained(\"Model/blip-saved-model\", from_pt=True)\n",
    "        pickle.dump(tracking_information, open(\"tracking_information.pkl\", \"wb\"))\n",
    "        print(\"Saved model to Model/blip-saved-model\")\n",
    "        min_eval_loss = eval_loss\n",
    "        early_stopping_hook = 0\n",
    "    else:\n",
    "        early_stopping_hook += 1\n",
    "        if early_stopping_hook > patience:\n",
    "            break\n",
    "\n",
    "\n",
    "print(\"The finetuning process is complete!\")\n"
   ]
  },
  {
   "cell_type": "code",
   "execution_count": null,
   "id": "4d13ebb1-dbdc-4c70-b876-9f7e080daaa0",
   "metadata": {},
   "outputs": [],
   "source": []
  },
  {
   "cell_type": "code",
   "execution_count": 13,
   "id": "fc98fc2c-1871-4864-8882-a9bd099ec7a8",
   "metadata": {},
   "outputs": [
    {
     "name": "stderr",
     "output_type": "stream",
     "text": [
      "huggingface/tokenizers: The current process just got forked, after parallelism has already been used. Disabling parallelism to avoid deadlocks...\n",
      "To disable this warning, you can either:\n",
      "\t- Avoid using `tokenizers` before the fork if possible\n",
      "\t- Explicitly set the environment variable TOKENIZERS_PARALLELISM=(true | false)\n"
     ]
    },
    {
     "name": "stdout",
     "output_type": "stream",
     "text": [
      "README.md  adapter_config.json\tadapter_model.safetensors\n"
     ]
    }
   ],
   "source": [
    "!ls Model/blip-saved-model/"
   ]
  },
  {
   "cell_type": "code",
   "execution_count": 9,
   "id": "694126fe-45cb-438b-bec3-8112896f08cc",
   "metadata": {},
   "outputs": [],
   "source": [
    "import pickle\n",
    "with open(\"tracking_information.pkl\", \"rb\") as rf:\n",
    "    tracking_information = pickle.load(rf)"
   ]
  },
  {
   "cell_type": "code",
   "execution_count": 14,
   "id": "11bc0bac-add0-4700-9e02-8a3471b5e8d1",
   "metadata": {},
   "outputs": [
    {
     "data": {
      "text/plain": [
       "451"
      ]
     },
     "execution_count": 14,
     "metadata": {},
     "output_type": "execute_result"
    }
   ],
   "source": [
    "len(test_dataset)"
   ]
  },
  {
   "cell_type": "code",
   "execution_count": 16,
   "id": "544f8091-c264-41e0-a609-dae16df4d1c6",
   "metadata": {},
   "outputs": [
    {
     "name": "stderr",
     "output_type": "stream",
     "text": [
      "  0%|                                                                                                                                                | 0/451 [00:00<?, ?it/s]/data/vep52/miniforge3/envs/med_vqa/lib/python3.10/site-packages/transformers/generation/configuration_utils.py:492: UserWarning: `do_sample` is set to `False`. However, `temperature` is set to `0.0` -- this flag is only used in sample-based generation modes. You should set `do_sample=True` or unset `temperature`.\n",
      "  warnings.warn(\n",
      "100%|██████████████████████████████████████████████████████████████████████████████████████████████████████████████████████████████████████| 451/451 [22:28<00:00,  2.99s/it]\n"
     ]
    }
   ],
   "source": [
    "model.eval()\n",
    "from tqdm import tqdm\n",
    "answers = []\n",
    "predicted_answers = []\n",
    "\n",
    "torch.manual_seed(0)\n",
    "for batch in tqdm(test_dataset):\n",
    "    inputs = processor(images=batch['image'], text=batch['question'], return_tensors=\"pt\").to(\n",
    "        device=device\n",
    "    )\n",
    "    \n",
    "    generated_ids = model.generate(**inputs,\n",
    "                                   max_length=100,\n",
    "                                   temperature=0.0,\n",
    "                                   num_beams=2,\n",
    "                                   early_stopping=True,\n",
    "                                   min_length=1,\n",
    "                                   repetition_penalty=1.81,\n",
    "                                   )\n",
    "    generated_answers = processor.batch_decode(generated_ids, skip_special_tokens=True)\n",
    "\n",
    "    predicted_answers.extend(generated_answers)\n",
    "    answers.append(batch['answer'])"
   ]
  },
  {
   "cell_type": "code",
   "execution_count": 17,
   "id": "889797d7-8ab0-4714-9c26-0dba93c2996a",
   "metadata": {},
   "outputs": [
    {
     "data": {
      "text/plain": [
       "(451, 451)"
      ]
     },
     "execution_count": 17,
     "metadata": {},
     "output_type": "execute_result"
    }
   ],
   "source": [
    "len(answers), len(predicted_answers)"
   ]
  },
  {
   "cell_type": "code",
   "execution_count": 18,
   "id": "15c570af-5fe5-4836-ac8a-72dec616c678",
   "metadata": {},
   "outputs": [
    {
     "data": {
      "text/plain": [
       "('exact_match: 0.398406374501992',\n",
       " 'similarity: 0.026727220927717333',\n",
       " 41,\n",
       " 59,\n",
       " 35,\n",
       " 77)"
      ]
     },
     "execution_count": 18,
     "metadata": {},
     "output_type": "execute_result"
    }
   ],
   "source": [
    "from difflib import SequenceMatcher\n",
    "\n",
    "hypotheses = []\n",
    "references = []\n",
    "\n",
    "ratios = []\n",
    "\n",
    "# correct \n",
    "tp = 0\n",
    "tn = 0\n",
    "fp = 0\n",
    "fn = 0\n",
    "\n",
    "for a, pa in zip(answers, predicted_answers):\n",
    "    if a in ['yes','no']:\n",
    "        if pa.startswith(a):\n",
    "            if a == 'yes':\n",
    "                tp += 1\n",
    "            elif pa == 'no' or pa.startswith('no ') or pa.startswith('non'):\n",
    "                tn += 1\n",
    "        else:\n",
    "            if a == 'yes':\n",
    "                fn += 1\n",
    "            else:\n",
    "                fp += 1\n",
    "    else:\n",
    "        # hypotheses.append(pa)\n",
    "        # references.append(a)\n",
    "        ratios.append(SequenceMatcher(a=a, b=pa).ratio())\n",
    "\n",
    "accuracy = (tp+tn)/(len(answers)-len(ratios))\n",
    "ratio = sum(ratios)/len(ratios)\n",
    "f\"exact_match: {accuracy}\", f\"similarity: {ratio}\", tp, tn, fp, fn"
   ]
  },
  {
   "cell_type": "code",
   "execution_count": 19,
   "id": "f5504144-9b9c-4aef-8e63-d320a45133bf",
   "metadata": {},
   "outputs": [
    {
     "data": {
      "image/png": "[encoded data removed]",
      "text/plain": [
       "<Figure size 640x480 with 1 Axes>"
      ]
     },
     "metadata": {},
     "output_type": "display_data"
    }
   ],
   "source": [
    "import numpy as np\n",
    "import matplotlib.pyplot as plt\n",
    "arr = np.array(tracking_information)\n",
    "\n",
    "plt.figure(1)\n",
    "plt.clf()\n",
    "plt.plot(arr[:,0], label='train')\n",
    "plt.plot(arr[:,1], label='val')\n",
    "plt.title('BLIP-2 VQA-RAD')\n",
    "plt.xlabel('epoch')\n",
    "plt.ylabel('loss')\n",
    "plt.legend()\n",
    "_=plt.show()"
   ]
  },
  {
   "cell_type": "code",
   "execution_count": 20,
   "id": "e63b5648-c343-46a8-94b2-c701e333d95b",
   "metadata": {},
   "outputs": [],
   "source": [
    "import json\n",
    "with open(f\"Model/blip-saved-model/answers.json\", \"w\") as wf:\n",
    "    json.dump(answers, wf)\n",
    "with open(f\"Model/blip-saved-model/predicted_answers.json\", \"w\") as wf:\n",
    "    json.dump(predicted_answers, wf)   "
   ]
  },
  {
   "cell_type": "code",
   "execution_count": null,
   "id": "8098a9ad-9f77-4048-80e7-a9f79ae44015",
   "metadata": {},
   "outputs": [],
   "source": []
  },
  {
   "cell_type": "code",
   "execution_count": 4,
   "id": "e2713678-5bfa-450a-bd81-188c5c91176e",
   "metadata": {},
   "outputs": [
    {
     "name": "stdout",
     "output_type": "stream",
     "text": [
      "Salesforce/blip2-opt-2.7b\n"
     ]
    },
    {
     "data": {
      "application/vnd.jupyter.widget-view+json": {
       "model_id": "6cc69faf90a44e73b0189ef1abfff0f7",
       "version_major": 2,
       "version_minor": 0
      },
      "text/plain": [
       "Loading checkpoint shards:   0%|          | 0/2 [00:00<?, ?it/s]"
      ]
     },
     "metadata": {},
     "output_type": "display_data"
    }
   ],
   "source": [
    "import os\n",
    "from transformers import AutoProcessor, Blip2ForConditionalGeneration\n",
    "from accelerate import accelerator\n",
    "from peft import LoraConfig, get_peft_model, PeftConfig, PeftModel\n",
    "\n",
    "peft_model_id = \"Model/blip-saved-model\"\n",
    "config = PeftConfig.from_pretrained(peft_model_id)\n",
    "\n",
    "print(config.base_model_name_or_path)\n",
    "\n",
    "model = Blip2ForConditionalGeneration.from_pretrained(config.base_model_name_or_path)\n",
    "model = PeftModel.from_pretrained(model, peft_model_id)\n",
    "\n",
    "processor = AutoProcessor.from_pretrained(\"Salesforce/blip2-opt-2.7b\")\n",
    "# processor.tokenizer.padding_side='left'"
   ]
  },
  {
   "cell_type": "code",
   "execution_count": 5,
   "id": "d257b762-98da-4ae0-8231-a8c87c2ce1b9",
   "metadata": {},
   "outputs": [
    {
     "data": {
      "text/plain": [
       "device(type='cuda', index=1)"
      ]
     },
     "execution_count": 5,
     "metadata": {},
     "output_type": "execute_result"
    }
   ],
   "source": [
    "model.to(device)\n",
    "model.device"
   ]
  },
  {
   "cell_type": "code",
   "execution_count": 6,
   "id": "38dc0f6e-44b5-459d-8fe1-f2c0e6b8e37c",
   "metadata": {},
   "outputs": [
    {
     "data": {
      "text/plain": [
       "device(type='cuda', index=1)"
      ]
     },
     "execution_count": 6,
     "metadata": {},
     "output_type": "execute_result"
    }
   ],
   "source": [
    "model.device"
   ]
  },
  {
   "cell_type": "code",
   "execution_count": null,
   "id": "ae1e16e2",
   "metadata": {},
   "outputs": [],
   "source": []
  },
  {
   "cell_type": "code",
   "execution_count": null,
   "id": "641157cf",
   "metadata": {},
   "outputs": [],
   "source": [
    "def find_repeating_unit(s):\n",
    "    # Find the first repeating unit in the string\n",
    "    for i in range(1, len(s)):\n",
    "        if s.startswith(s[i:]):\n",
    "            return s[:i]\n",
    "    return s.split(' ')[0]  # Return the whole string if no repetition is found\n",
    "\n",
    "# Example list of strings\n",
    "strings = hypotheses\n",
    "\n",
    "# Extract the first repeating unit from each string\n",
    "extracted_units = [find_repeating_unit(s) for s in strings]\n",
    "\n",
    "# print(extracted_units)\n",
    "\n",
    "\n",
    "extracted_units_2 = []\n",
    "for f in extracted_units:\n",
    "    if f.startswith('yes'):\n",
    "        extracted_units_2.append('yes')\n",
    "    elif f.startswith('no'):\n",
    "        extracted_units_2.append('no')\n",
    "    else:\n",
    "        extracted_units_2.append(f)\n",
    "\n",
    "# extracted_units_2\n",
    "\n"
   ]
  },
  {
   "cell_type": "code",
   "execution_count": null,
   "id": "e66b3d9f",
   "metadata": {},
   "outputs": [],
   "source": [
    "import difflib\n",
    "\n",
    "def calculate_similarity_score(s1, s2):\n",
    "    \"\"\"Calculate the similarity score between two strings.\"\"\"\n",
    "    return difflib.SequenceMatcher(None, s1, s2).ratio()\n",
    "\n",
    "def calculate_difflib_accuracy(predicted_texts, actual_texts, threshold=0.8):\n",
    "    \"\"\"Calculate accuracy based on difflib's similarity scores.\"\"\"\n",
    "    correct_count = 0\n",
    "\n",
    "    for predicted, actual in zip(predicted_texts, actual_texts):\n",
    "        score = calculate_similarity_score(predicted, actual)\n",
    "        if score >= threshold:\n",
    "            correct_count += 1\n",
    "\n",
    "    accuracy = correct_count / len(actual_texts)\n",
    "    return accuracy\n",
    "\n",
    "# Example usage\n",
    "predicted_texts = extracted_units_2\n",
    "actual_texts =  test_dataset[:]['answer']\n",
    "\n",
    "\n",
    "accuracy = calculate_difflib_accuracy(predicted_texts, actual_texts)\n",
    "print(f\"Fuzzy Partial Accuracy: {accuracy:.2%}\")\n"
   ]
  },
  {
   "cell_type": "code",
   "execution_count": null,
   "id": "461a0e3c",
   "metadata": {},
   "outputs": [],
   "source": []
  }
 ],
 "metadata": {
  "kernelspec": {
   "display_name": "Python 3 (ipykernel)",
   "language": "python",
   "name": "python3"
  },
  "language_info": {
   "codemirror_mode": {
    "name": "ipython",
    "version": 3
   },
   "file_extension": ".py",
   "mimetype": "text/x-python",
   "name": "python",
   "nbconvert_exporter": "python",
   "pygments_lexer": "ipython3",
   "version": "3.10.14"
  }
 },
 "nbformat": 4,
 "nbformat_minor": 5
}
